{
 "cells": [
  {
   "cell_type": "markdown",
   "id": "b211828c-a385-4da8-848c-155106916bb0",
   "metadata": {
    "tags": []
   },
   "source": [
    "# **NumPy**"
   ]
  },
  {
   "cell_type": "markdown",
   "id": "aa65960d-d94a-4de8-a529-d4a01a3a4f31",
   "metadata": {
    "tags": []
   },
   "source": [
    "## **0. Introduction**"
   ]
  },
  {
   "cell_type": "markdown",
   "id": "cdcd42ef-2493-45e6-a1b0-cc8c74e32b72",
   "metadata": {},
   "source": [
    "### **0.1. Contents**"
   ]
  },
  {
   "cell_type": "markdown",
   "id": "ee7f1921-27eb-49c3-b799-3eded4149b10",
   "metadata": {},
   "source": [
    "### **0.2. References**"
   ]
  },
  {
   "cell_type": "markdown",
   "id": "92d30d07-a715-4af9-a517-30ba6982d31f",
   "metadata": {},
   "source": [
    "This note draws heavily from the following sources:\n",
    "\n",
    "- Chase Coleman, Spencer Lyon, and Jesse Perla. (n.d.). Introduction to Numpy. QuantEcon DataScience. [link](https://datascience.quantecon.org/scientific/numpy_arrays.html)\n",
    "- Qingkai Kong, Timmy Siauw, and Alexandre Bayen. (2020). Python Programming and Numerical Methods : A Guide for Engineers and Scientists. Elsevier. [link](https://pythonnumericalmethods.berkeley.edu/notebooks/Index.html)\n",
    "\n",
    "I would highly recommend checking them out if you are interested in learning more about this topic."
   ]
  },
  {
   "cell_type": "markdown",
   "id": "909b2921-b7ca-4263-8ebe-c7a3048eca4e",
   "metadata": {
    "tags": []
   },
   "source": [
    "## **1. NumPy**"
   ]
  },
  {
   "cell_type": "markdown",
   "id": "c43852a6-25d9-47ae-9538-3847dc4a66ed",
   "metadata": {},
   "source": [
    "Now that we have learned the fundamentals of programming in Python, we will learn how we can use Python to perform the computations required in computational economics.\n",
    "\n",
    "We call these the \"scientific Python tools\".\n",
    "\n",
    "The foundational library that helps us perform these computations is known as `numpy`, which means numerical Python.\n",
    "\n",
    "Before we get started, please note that the convention for importing the numpy package is to use the nickname `np`."
   ]
  },
  {
   "cell_type": "code",
   "execution_count": 1,
   "id": "c82a713f-036d-4e61-beab-222414c4809c",
   "metadata": {},
   "outputs": [],
   "source": [
    "import numpy as np"
   ]
  },
  {
   "cell_type": "markdown",
   "id": "5033e3fc-5391-40f0-893c-5bed752a8a65",
   "metadata": {},
   "source": [
    "### **1.1. Numpy Arrays**"
   ]
  },
  {
   "cell_type": "markdown",
   "id": "acca5ff5-2546-4154-a6f5-171cd6f47c78",
   "metadata": {},
   "source": [
    "Numpy's core contribution is a new data type called an **array**.\n",
    "\n",
    "An array is similar to a list, but numpy imposes some additional restrictions on how the data inside is organized.\n",
    "\n",
    "These restrictions allow numpy to\n",
    "- be more efficient in performing mathematical and scientific computations;\n",
    "- expose functions that allow numpy to do the necessary linear algebra for machine learning and statistics.\n",
    "\n",
    "Then, what actually is an array?\n",
    "\n",
    "An array is **a multi-dimensional grid of values**.\n",
    "\n",
    "What does it mean?\n",
    "\n",
    "It is easier to demonstrate than to explain.\n",
    "\n",
    "In this block of code, we build a 1-dimensional array."
   ]
  },
  {
   "cell_type": "code",
   "execution_count": 3,
   "id": "5b8be74c-e888-4faa-9226-c12614f961db",
   "metadata": {},
   "outputs": [
    {
     "name": "stdout",
     "output_type": "stream",
     "text": [
      "[1 2 3]\n"
     ]
    }
   ],
   "source": [
    "# Create a 1-dimensional array from a list.\n",
    "\n",
    "arr_1d = np.array([1, 2, 3])\n",
    "\n",
    "print(arr_1d)"
   ]
  },
  {
   "cell_type": "markdown",
   "id": "4b035c18-c25d-4f35-a4e8-d1004b652e39",
   "metadata": {},
   "source": [
    "You can think of a 1-dimensional array as a list of numbers."
   ]
  },
  {
   "cell_type": "code",
   "execution_count": 4,
   "id": "43bdb217-616e-4c82-a4f1-d151c3d6dfaa",
   "metadata": {},
   "outputs": [
    {
     "name": "stdout",
     "output_type": "stream",
     "text": [
      "1\n",
      "[1 2]\n"
     ]
    }
   ],
   "source": [
    "# We can index like we did with lists.\n",
    "\n",
    "print(arr_1d[0])   # Indexing\n",
    "print(arr_1d[0:2]) # Slicing"
   ]
  },
  {
   "cell_type": "markdown",
   "id": "32dd201c-e3e1-4e97-87c9-1d1a5e12d663",
   "metadata": {},
   "source": [
    "Note that the range of indicies does not include the end-point, that is"
   ]
  },
  {
   "cell_type": "code",
   "execution_count": 6,
   "id": "31886eda-05b1-4b0a-924b-403e771b8cc4",
   "metadata": {},
   "outputs": [
    {
     "name": "stdout",
     "output_type": "stream",
     "text": [
      "[1 2 3]\n",
      "[ True  True  True]\n",
      "[1 2]\n"
     ]
    }
   ],
   "source": [
    "print(arr_1d[0:3])\n",
    "print(arr_1d[0:3] == arr_1d[:]) # You can index all values of the array by typing nothing before and after ':'.\n",
    "print(arr_1d[0:2])"
   ]
  },
  {
   "cell_type": "markdown",
   "id": "b1148d1d-1290-4973-b526-2bac8fa312a8",
   "metadata": {},
   "source": [
    "The differences emerge as we move into higher dimensions.\n",
    "\n",
    "Next, we define a 2-dimensional array (a matrix)."
   ]
  },
  {
   "cell_type": "code",
   "execution_count": 7,
   "id": "29f9bd0a-74bf-4d70-977a-244d26c7493e",
   "metadata": {},
   "outputs": [
    {
     "name": "stdout",
     "output_type": "stream",
     "text": [
      "[[1 2 3]\n",
      " [4 5 6]\n",
      " [7 8 9]]\n"
     ]
    }
   ],
   "source": [
    "arr_2d = np.array([[1, 2, 3], [4, 5, 6], [7, 8, 9]])\n",
    "\n",
    "print(arr_2d)"
   ]
  },
  {
   "cell_type": "markdown",
   "id": "df439083-6105-4635-9185-256ddaa63d10",
   "metadata": {},
   "source": [
    "Notice that the data is no longer represented as something flat, but rather, as three rows and three columns of numbers.\n",
    "\n",
    "The first question is that you might ask yourself is: \"How do I access the values in this array?\"\n",
    "\n",
    "You access each element by **specifying a row first and then a column**.\n",
    "\n",
    "For example, if we wanted to access the `6` in `arr_2d`, we would ask for the (1, 2) element."
   ]
  },
  {
   "cell_type": "code",
   "execution_count": 9,
   "id": "ab707a2b-c941-4d57-a3cd-9be18b35dfdb",
   "metadata": {},
   "outputs": [
    {
     "name": "stdout",
     "output_type": "stream",
     "text": [
      "6\n"
     ]
    }
   ],
   "source": [
    "print(arr_2d[1, 2]) # Indexing into two dimensions."
   ]
  },
  {
   "cell_type": "markdown",
   "id": "6aa5d00e-48c7-41b8-b3d6-f01f0de8bcd0",
   "metadata": {},
   "source": [
    "Or to get the top left corner,"
   ]
  },
  {
   "cell_type": "code",
   "execution_count": 10,
   "id": "d48dac93-317f-4339-b562-833b0841d15e",
   "metadata": {},
   "outputs": [
    {
     "name": "stdout",
     "output_type": "stream",
     "text": [
      "1\n"
     ]
    }
   ],
   "source": [
    "print(arr_2d[0, 0])"
   ]
  },
  {
   "cell_type": "markdown",
   "id": "88240f0e-6b24-48e4-9f1a-9ea85480be29",
   "metadata": {},
   "source": [
    "To get the first, and then second rows,"
   ]
  },
  {
   "cell_type": "code",
   "execution_count": 13,
   "id": "e33d5fa0-5ef0-4f27-b89d-3bbfb7efc3d1",
   "metadata": {},
   "outputs": [
    {
     "name": "stdout",
     "output_type": "stream",
     "text": [
      "[1 2 3]\n",
      "[4 5 6]\n"
     ]
    }
   ],
   "source": [
    "print(arr_2d[0, :]) # First row of arr_2d\n",
    "print(arr_2d[1, :]) # Second row of arr_2d"
   ]
  },
  {
   "cell_type": "markdown",
   "id": "768f8c8a-d0d3-4a88-b4ae-d50a77973ec6",
   "metadata": {},
   "source": [
    "Or the columns,"
   ]
  },
  {
   "cell_type": "code",
   "execution_count": 14,
   "id": "43514d12-0120-4af7-9b5e-49811b163d84",
   "metadata": {},
   "outputs": [
    {
     "name": "stdout",
     "output_type": "stream",
     "text": [
      "[1 4 7]\n",
      "[2 5 8]\n"
     ]
    }
   ],
   "source": [
    "print(arr_2d[:, 0]) # First column of arr_2d\n",
    "print(arr_2d[:, 1]) # Second column of arr_2d"
   ]
  },
  {
   "cell_type": "markdown",
   "id": "b347cff0-ed89-454d-8d27-b77fffcda014",
   "metadata": {},
   "source": [
    "This indexing and slicing in numpy array continues to generalize to the higher dimensions, since numpy gives us as many dimensions as we want in an array.\n",
    "\n",
    "For example, we build a 3-dimensional array below."
   ]
  },
  {
   "cell_type": "code",
   "execution_count": 15,
   "id": "1217b7c1-002d-41e5-87da-96d63a432af1",
   "metadata": {},
   "outputs": [
    {
     "name": "stdout",
     "output_type": "stream",
     "text": [
      "[[[ 1  2  3]\n",
      "  [ 4  5  6]]\n",
      "\n",
      " [[10 20 30]\n",
      "  [40 50 60]]]\n"
     ]
    }
   ],
   "source": [
    "arr_3d = np.array([[[1, 2, 3], [4, 5, 6]], [[10, 20, 30], [40, 50, 60]]])\n",
    "\n",
    "print(arr_3d)"
   ]
  },
  {
   "cell_type": "markdown",
   "id": "96bbca32-72a4-4591-8ef2-721b711d1226",
   "metadata": {},
   "source": [
    "### **1.2. Array Indexing**"
   ]
  },
  {
   "cell_type": "code",
   "execution_count": null,
   "id": "b49868cd-98ad-4312-8e89-b908028388b5",
   "metadata": {},
   "outputs": [],
   "source": []
  }
 ],
 "metadata": {
  "kernelspec": {
   "display_name": "Python 3 (ipykernel)",
   "language": "python",
   "name": "python3"
  },
  "language_info": {
   "codemirror_mode": {
    "name": "ipython",
    "version": 3
   },
   "file_extension": ".py",
   "mimetype": "text/x-python",
   "name": "python",
   "nbconvert_exporter": "python",
   "pygments_lexer": "ipython3",
   "version": "3.8.12"
  }
 },
 "nbformat": 4,
 "nbformat_minor": 5
}
