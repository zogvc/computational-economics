{
 "cells": [
  {
   "cell_type": "markdown",
   "id": "02d9176f-5941-40af-909e-2ae8dff1ae7f",
   "metadata": {},
   "source": [
    "# **Programming Concepts**"
   ]
  },
  {
   "cell_type": "code",
   "execution_count": null,
   "id": "fd4fbc43-9c07-4db2-8d82-3ac4c2cb1c39",
   "metadata": {},
   "outputs": [],
   "source": []
  }
 ],
 "metadata": {
  "kernelspec": {
   "display_name": "Python 3 (ipykernel)",
   "language": "python",
   "name": "python3"
  },
  "language_info": {
   "codemirror_mode": {
    "name": "ipython",
    "version": 3
   },
   "file_extension": ".py",
   "mimetype": "text/x-python",
   "name": "python",
   "nbconvert_exporter": "python",
   "pygments_lexer": "ipython3",
   "version": "3.8.12"
  }
 },
 "nbformat": 4,
 "nbformat_minor": 5
}
