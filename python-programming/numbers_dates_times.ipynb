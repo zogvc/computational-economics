{
 "cells": [
  {
   "cell_type": "markdown",
   "id": "34d4952a-4f21-4433-ab5c-9982fce601e0",
   "metadata": {},
   "source": [
    "# **Numbers, Dates, and Times**"
   ]
  },
  {
   "cell_type": "markdown",
   "id": "ea124274-a6fc-400d-adbf-eeb01fd281a0",
   "metadata": {
    "tags": []
   },
   "source": [
    "## **0. Introduction**"
   ]
  },
  {
   "cell_type": "markdown",
   "id": "bcf25726-04de-4c23-a5b8-43d2a259846f",
   "metadata": {},
   "source": [
    "In this note, we introduce you how you can deal with 'numbers' and 'time' in Python."
   ]
  },
  {
   "cell_type": "markdown",
   "id": "eff1cf8c-c726-4f70-b4f4-f350fc909055",
   "metadata": {},
   "source": [
    "### **0.1. Expected Outcomes**"
   ]
  },
  {
   "cell_type": "markdown",
   "id": "44dbbd88-2a5a-4dfa-b857-08e72af94d4d",
   "metadata": {},
   "source": [
    "By studying with this note, you will :\n",
    "\n",
    "- understand how Python represents numbers\n",
    "- know the distinction between `int` and `float`\n",
    "- be familiar with various binary operators for numbers\n",
    "- be introduced to the `math` library"
   ]
  },
  {
   "cell_type": "markdown",
   "id": "186fede0-3421-477b-8e7b-108a9c6c1625",
   "metadata": {},
   "source": [
    "### **0.2. References**"
   ]
  },
  {
   "cell_type": "markdown",
   "id": "5385035c-8f11-463e-8a78-5bd780afcaf5",
   "metadata": {},
   "source": [
    "This note draws heavily from the following sources:\n",
    "\n",
    "- Chase Coleman, Spencer Lyon, and Jesse Perla. (n.d.). Basics. QuantEcon DataScience. [link](https://datascience.quantecon.org/python_fundamentals/basics.html)\n",
    "- Qingkai Kong, Timmy Siauw, and Alexandre Bayen. (2020). Python Programming and Numerical Methods : A Guide for Engineers and Scientists. Elsevier. [link](https://pythonnumericalmethods.berkeley.edu/notebooks/Index.html)\n",
    "- Fedor Iskhakov. (2020). Foundations of Computational Economics. Youtube. [link](https://www.youtube.com/playlist?list=PLWs2dSJolpWKBCBPVymYBm0BM8VPksmLv)\n",
    "\n",
    "I would highly recommend checking them out if you are interested in learning more about this topic."
   ]
  },
  {
   "cell_type": "markdown",
   "id": "ba66883c-f837-4eb6-a57c-6425ae9634ea",
   "metadata": {
    "tags": []
   },
   "source": [
    "## **1. Numbers**"
   ]
  },
  {
   "cell_type": "markdown",
   "id": "e9f9d08f-6487-4c7c-8287-e341c4ac409c",
   "metadata": {},
   "source": [
    "## **2. Dates and Times**"
   ]
  },
  {
   "cell_type": "code",
   "execution_count": null,
   "id": "b01753e9-0658-43e9-8cd2-389325c3d8a2",
   "metadata": {},
   "outputs": [],
   "source": []
  }
 ],
 "metadata": {
  "kernelspec": {
   "display_name": "Python 3 (ipykernel)",
   "language": "python",
   "name": "python3"
  },
  "language_info": {
   "codemirror_mode": {
    "name": "ipython",
    "version": 3
   },
   "file_extension": ".py",
   "mimetype": "text/x-python",
   "name": "python",
   "nbconvert_exporter": "python",
   "pygments_lexer": "ipython3",
   "version": "3.8.12"
  }
 },
 "nbformat": 4,
 "nbformat_minor": 5
}
