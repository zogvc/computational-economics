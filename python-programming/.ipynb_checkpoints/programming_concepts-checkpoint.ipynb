{
 "cells": [
  {
   "cell_type": "markdown",
   "id": "02d9176f-5941-40af-909e-2ae8dff1ae7f",
   "metadata": {},
   "source": [
    "# **Programming Concepts**"
   ]
  },
  {
   "cell_type": "markdown",
   "id": "83fb68d4-b3cc-4d1c-ade3-8e9a5f1bd7b9",
   "metadata": {
    "tags": []
   },
   "source": [
    "## **0. Introduction**"
   ]
  },
  {
   "cell_type": "markdown",
   "id": "23f85078-8206-46de-9048-890d2aa1c74d",
   "metadata": {},
   "source": [
    "Computational economics is a use of computer to analyze, i.e. solve and simulate complicated economic models that *do not allow for analytical solutions*.\n",
    "\n",
    "It is useful because the models are becoming more realistic and thus complicated these days.\n",
    "\n",
    "For example, some models based on computational techniques are :\n",
    "- Macroeconomics : heterogeneous agents, overlapping generations\n",
    "- Microeconomics : dynamic games\n",
    "- Structural econometrics : estimating complex models with micro-data\n",
    "- Advanced econometrics : computationally intensive models"
   ]
  },
  {
   "cell_type": "markdown",
   "id": "5b7dd402-d10b-4245-a055-cb23e8a13084",
   "metadata": {},
   "source": [
    "In this note, we begin with the basics.\n",
    "\n",
    "We will go through some **basic concepts of programming** and **where to search for help**."
   ]
  },
  {
   "cell_type": "markdown",
   "id": "470ff36e-191e-4abc-9ff3-c1395a8005b8",
   "metadata": {},
   "source": [
    "### **0.1. Expected Outcomes**"
   ]
  },
  {
   "cell_type": "markdown",
   "id": "0d4a6771-509d-42b2-80c2-d77a0b65b8ae",
   "metadata": {},
   "source": [
    "By studying with this note, you will :\n",
    "\n",
    "- understand variable assignment\n",
    "- know what a function is and how to figure out what it does\n",
    "- be able to use tab completion"
   ]
  },
  {
   "cell_type": "markdown",
   "id": "590004fd-341b-450c-ae29-024785900264",
   "metadata": {},
   "source": [
    "### **0.2. References**"
   ]
  },
  {
   "cell_type": "markdown",
   "id": "c8fd96fc-23fc-4240-bf43-80ba5093bf5c",
   "metadata": {},
   "source": [
    "This note draws heavily from the following sources:\n",
    "\n",
    "- Chase Coleman, Spencer Lyon, and Jesse Perla. (n.d.). Basics. QuantEcon DataScience. [link](https://datascience.quantecon.org/python_fundamentals/basics.html)\n",
    "- Qingkai Kong, Timmy Siauw, and Alexandre Bayen. (2020). Python Programming and Numerical Methods : A Guide for Engineers and Scientists. Elsevier. [link](https://pythonnumericalmethods.berkeley.edu/notebooks/Index.html)\n",
    "- Fedor Iskhakov. (2020). Foundations of Computational Economics. Youtube. [link](https://www.youtube.com/playlist?list=PLWs2dSJolpWKBCBPVymYBm0BM8VPksmLv)\n",
    "\n",
    "I would highly recommend checking them out if you are interested in learning more about this topic."
   ]
  },
  {
   "cell_type": "markdown",
   "id": "3a93ce0c-bd18-4bc7-b950-fc62d096b3d1",
   "metadata": {
    "tags": []
   },
   "source": [
    "## **1. Variables**"
   ]
  },
  {
   "cell_type": "markdown",
   "id": "5abd0bc0-89d4-4852-a778-22f04129c5d9",
   "metadata": {
    "tags": []
   },
   "source": [
    "When programming, it is useful to be able to store information in variables."
   ]
  },
  {
   "cell_type": "markdown",
   "id": "2a39f4df-25b0-483a-add2-e0b6a55b56fd",
   "metadata": {},
   "source": [
    "### **1.1. Variable Assignment**"
   ]
  },
  {
   "cell_type": "markdown",
   "id": "f962837e-cbb9-4a82-9c7e-7ec921513b30",
   "metadata": {},
   "source": [
    "A **variable** is a string of characters and numbers associated with a piece of information.\n",
    "\n",
    "The **assignment operator**, denoted by the `=` symbol, is the operator that is used to *assign values to variables* in Python.\n",
    "\n",
    "Below, we assign the value \"Hello World\" to the variable `x`."
   ]
  },
  {
   "cell_type": "code",
   "execution_count": 22,
   "id": "615718a1-f28f-4afd-b42c-f42338135815",
   "metadata": {},
   "outputs": [],
   "source": [
    "x = \"Hello World\""
   ]
  },
  {
   "cell_type": "markdown",
   "id": "3158ede5-1217-4952-896d-d81740b33d5c",
   "metadata": {},
   "source": [
    "Once we have assigned a value to a variable, Python will remember this variable as long as the current session of Python is still running.\n",
    "\n",
    "Notice how writing `x` into the prompt below outputs the value “Hello World” (if you are working at the Jupyter Notebook)."
   ]
  },
  {
   "cell_type": "code",
   "execution_count": 23,
   "id": "8adfc789-a67b-4622-8d7a-e61dd9ffa238",
   "metadata": {},
   "outputs": [
    {
     "data": {
      "text/plain": [
       "'Hello World'"
      ]
     },
     "execution_count": 23,
     "metadata": {},
     "output_type": "execute_result"
    }
   ],
   "source": [
    "x"
   ]
  },
  {
   "cell_type": "markdown",
   "id": "ca1366a2-3673-478e-83d1-76b436b3d081",
   "metadata": {},
   "source": [
    "However, Python returns an error if we ask it about variables that have not yet been created."
   ]
  },
  {
   "cell_type": "code",
   "execution_count": 24,
   "id": "53ab4da6-f920-4191-b993-6b3a7557ee26",
   "metadata": {},
   "outputs": [
    {
     "ename": "NameError",
     "evalue": "name 'y' is not defined",
     "output_type": "error",
     "traceback": [
      "\u001b[1;31m---------------------------------------------------------------------------\u001b[0m",
      "\u001b[1;31mNameError\u001b[0m                                 Traceback (most recent call last)",
      "Cell \u001b[1;32mIn[24], line 1\u001b[0m\n\u001b[1;32m----> 1\u001b[0m \u001b[43my\u001b[49m\n",
      "\u001b[1;31mNameError\u001b[0m: name 'y' is not defined"
     ]
    }
   ],
   "source": [
    "y"
   ]
  },
  {
   "cell_type": "markdown",
   "id": "4aafc3f9-8157-4ab6-8fa4-1d091d0a360c",
   "metadata": {},
   "source": [
    "**Checking an error message** is a good code habit.\n",
    "\n",
    "Here, we got a `NameError` and it says \"name 'y' is not defined\".\n",
    "\n",
    "The possible mistake you have made (which we did on purpose here) is that you never generated a variable named 'y'.\n",
    "\n",
    "Your code will get more and more complicated as you work on big projects.\n",
    "\n",
    "**If you cannot find out what mistakes you have made in the code, an error message will be a good guideline for you.**\n",
    "\n",
    "More on errors and debugging will be covered in 'errors_and_debugging.ipynb'."
   ]
  },
  {
   "cell_type": "markdown",
   "id": "497c0e75-0616-48a7-afc4-f5450d0eee5f",
   "metadata": {},
   "source": [
    "### **1.2. Update Variables**"
   ]
  },
  {
   "cell_type": "markdown",
   "id": "1b37b8d4-6fbc-4be7-997e-09f51d44a1ed",
   "metadata": {},
   "source": [
    "Back to the variable assignment, it is also useful to understand **the order in which operations happen**.\n",
    "\n",
    "- First, the right side of the equal sign is computed.\n",
    "- Then, that computed value is stored as the variable to the left of the equal sign."
   ]
  },
  {
   "cell_type": "markdown",
   "id": "9f381881-927a-4d75-8241-b14d09e09feb",
   "metadata": {},
   "source": [
    "**`[Exercise 1]`** \n",
    "\n",
    "Answer the question before you run the code block.\n",
    "\n",
    "What do you think the value of `z` is after running the code below?"
   ]
  },
  {
   "cell_type": "code",
   "execution_count": 25,
   "id": "fc1dec75-b9cf-4d01-86f2-5aa37e3bc155",
   "metadata": {},
   "outputs": [
    {
     "name": "stdout",
     "output_type": "stream",
     "text": [
      "z is 7\n"
     ]
    }
   ],
   "source": [
    "z = 3\n",
    "z = z + 4\n",
    "print(\"z is\", z)"
   ]
  },
  {
   "cell_type": "markdown",
   "id": "b474db07-5789-4440-917b-a1923e11c318",
   "metadata": {},
   "source": [
    "Keep in mind that the variable binds a name to something stored in memory.\n",
    "\n",
    "The name can even be bound to a value of a completely different type."
   ]
  },
  {
   "cell_type": "code",
   "execution_count": 26,
   "id": "e70f5a66-68fe-48ae-af8d-33874d297027",
   "metadata": {},
   "outputs": [
    {
     "name": "stdout",
     "output_type": "stream",
     "text": [
      "2\n",
      "something else\n"
     ]
    }
   ],
   "source": [
    "x = 2\n",
    "print(x)\n",
    "\n",
    "x = \"something else\"\n",
    "print(x)"
   ]
  },
  {
   "cell_type": "markdown",
   "id": "9f7804e0-5680-43b7-9353-8be942e55ccb",
   "metadata": {},
   "source": [
    "A variable is more like a container to store the data in the computer’s memory, the name of the variable tells the computer where to find this value in the memory. \n",
    "\n",
    "For now, it is sufficient to know that the notebook has its own memory space to store all the variables in the notebook. \n",
    "\n",
    "As a result of the previous example, you will see the variable `x` and `z` in the memory. You can view a list of all the variables in the notebook using the magic command `%whos`."
   ]
  },
  {
   "cell_type": "code",
   "execution_count": 27,
   "id": "d147c0bd-8326-4ff7-a9cf-ee056a95b969",
   "metadata": {},
   "outputs": [
    {
     "name": "stdout",
     "output_type": "stream",
     "text": [
      "Variable   Type    Data/Info\n",
      "----------------------------\n",
      "x          str     something else\n",
      "z          int     7\n"
     ]
    }
   ],
   "source": [
    "%whos"
   ]
  },
  {
   "cell_type": "markdown",
   "id": "810135de-af39-46f9-90ae-e2784a76e2da",
   "metadata": {},
   "source": [
    "### **1.3. Delete Variables**"
   ]
  },
  {
   "cell_type": "markdown",
   "id": "a9344466-714d-4f99-bda9-56a62d8b5f68",
   "metadata": {},
   "source": [
    "You can clear a variable from the notebook using the `del` function. \n",
    "\n",
    "Typing `del x` will clear the variable `x` from the workspace. \n",
    "\n",
    "If you want to remove all the variables in the notebook, you can use the magic command `%reset`."
   ]
  },
  {
   "cell_type": "markdown",
   "id": "8de0b713-6571-48c1-ae75-33e3ee18742b",
   "metadata": {},
   "source": [
    "### **1.4. Variable Names**"
   ]
  },
  {
   "cell_type": "markdown",
   "id": "298d3b6a-3471-434d-8ee9-b9901dbfdcc4",
   "metadata": {},
   "source": [
    "There are some restrictions on the names variables can take. \n",
    "\n",
    "- Variables can only contain alphanumeric characters (letters and numbers) as well as underscores. \n",
    "- However, the first character of a variable name must be a letter or underscores. (Not numbers!) \n",
    "- Spaces within a variable name are not permitted, and the variable names are case-sensitive (e.g., x and X will be considered different variables)."
   ]
  },
  {
   "cell_type": "markdown",
   "id": "d27c9901-0f64-48e9-a9d9-6de63da8fe7c",
   "metadata": {},
   "source": [
    "Unlike in pure mathematics, variables in programming almost always represent something tangible. \n",
    "\n",
    "It may be the distance between two points in space or the number of rabbits in a population. \n",
    "\n",
    "Therefore, as your code becomes increasingly complicated, it is very important that your variables carry a name that can easily be associated with what they represent. \n",
    "\n",
    "For example, the distance between two points in space is better represented by the variable `dist` than `x`, and the number of rabbits in a population is better represented by `nRabbits` than `y`."
   ]
  },
  {
   "cell_type": "markdown",
   "id": "4bd60b7c-a67f-4ae6-86ba-4b62a05d206a",
   "metadata": {},
   "source": [
    "## **2. Code Comments**"
   ]
  },
  {
   "cell_type": "markdown",
   "id": "22258120-08b5-4ff6-a008-ce28d9c08f85",
   "metadata": {},
   "source": [
    "**Comments** are short notes that you leave for yourself and for others who read your code.\n",
    "\n",
    "They should be used to explain what the code does.\n",
    "\n",
    "A comment is made with the `#`. \n",
    "\n",
    "Python ignores everything in a line that follows a `#`.\n",
    "\n",
    "Let’s practice making some comments."
   ]
  },
  {
   "cell_type": "code",
   "execution_count": 5,
   "id": "bdbfcc79-84e8-4b75-9a52-33688c20576e",
   "metadata": {},
   "outputs": [
    {
     "data": {
      "text/plain": [
       "3"
      ]
     },
     "execution_count": 5,
     "metadata": {},
     "output_type": "execute_result"
    }
   ],
   "source": [
    "i = 1  # Assign the value 1 to variable i\n",
    "j = 2  # Assign the value 2 to variable j\n",
    "\n",
    "# We add i and j below this line\n",
    "i + j"
   ]
  },
  {
   "cell_type": "markdown",
   "id": "7ce29a84-eba4-4f6d-95c7-05c7d545f486",
   "metadata": {},
   "source": [
    "## **3. Functions**"
   ]
  },
  {
   "cell_type": "markdown",
   "id": "7512f77d-308e-44c6-9299-592778fa1f28",
   "metadata": {},
   "source": [
    "**Functions** are *processes that take an input (or inputs) and produce an output*.\n",
    "\n",
    "If we had a function called `f` that took two arguments `x` and `y`, we would write `f(x, y)` to use the function.\n",
    "\n",
    "For example, the function `print` simply prints whatever it is given. \n",
    "\n",
    "Recall the variable we created called `x`."
   ]
  },
  {
   "cell_type": "code",
   "execution_count": 10,
   "id": "d72a8d6e-ab5e-4d2b-a9f3-7a460f2b05fc",
   "metadata": {},
   "outputs": [
    {
     "name": "stdout",
     "output_type": "stream",
     "text": [
      "something else\n"
     ]
    }
   ],
   "source": [
    "print(x)"
   ]
  },
  {
   "cell_type": "markdown",
   "id": "f8b437f8-728e-41f0-bac8-16cb05b41b60",
   "metadata": {},
   "source": [
    "Notice that there are no single quotation marks if we use the `print` function."
   ]
  },
  {
   "cell_type": "markdown",
   "id": "28ba82c1-5d07-4a08-b971-3a44b4cb1d7a",
   "metadata": {},
   "source": [
    "### **3.1. Getting Help**"
   ]
  },
  {
   "cell_type": "markdown",
   "id": "5e299902-45f4-4e58-81c9-68ccf30a30f4",
   "metadata": {},
   "source": [
    "We can figure out what a function does by asking for help.\n",
    "\n",
    "In Jupyter notebooks, this is done by placing a `?` after the function name (without using parenthesis) and evaluating the cell.\n",
    "\n",
    "For example, we can ask for help on the print function by writing `print?`.\n",
    "\n",
    "Depending on how you launched Jupyter, this will either launch\n",
    "\n",
    "- JupyterLab: display the help in text below the cell.\n",
    "- Classic Jupyter Notebooks: display a new panel at the bottom of your screen. You can exit this panel by hitting the escape key or clicking the x at the top right of the panel."
   ]
  },
  {
   "cell_type": "code",
   "execution_count": 12,
   "id": "bdf5f9d5-be88-42b1-9aeb-f4276a31f0cf",
   "metadata": {},
   "outputs": [
    {
     "data": {
      "text/plain": [
       "\u001b[1;31mDocstring:\u001b[0m\n",
       "print(value, ..., sep=' ', end='\\n', file=sys.stdout, flush=False)\n",
       "\n",
       "Prints the values to a stream, or to sys.stdout by default.\n",
       "Optional keyword arguments:\n",
       "file:  a file-like object (stream); defaults to the current sys.stdout.\n",
       "sep:   string inserted between values, default a space.\n",
       "end:   string appended after the last value, default a newline.\n",
       "flush: whether to forcibly flush the stream.\n",
       "\u001b[1;31mType:\u001b[0m      builtin_function_or_method\n"
      ]
     },
     "metadata": {},
     "output_type": "display_data"
    }
   ],
   "source": [
    "print?"
   ]
  },
  {
   "cell_type": "markdown",
   "id": "363ae9ce-8293-4e6c-ba60-696dd8d5e695",
   "metadata": {},
   "source": [
    "**`[Exercise 2]`** \n",
    "\n",
    "Read about out what the `len` function does (by writing `len?`).\n",
    "\n",
    "What will it produce if we give it the variable `x`?\n",
    "\n",
    "Check whether you were right by running the code `len(x)`."
   ]
  },
  {
   "cell_type": "code",
   "execution_count": 13,
   "id": "b5106c7c-de44-4064-8dd3-fb0cef51a907",
   "metadata": {},
   "outputs": [
    {
     "data": {
      "text/plain": [
       "\u001b[1;31mSignature:\u001b[0m \u001b[0mlen\u001b[0m\u001b[1;33m(\u001b[0m\u001b[0mobj\u001b[0m\u001b[1;33m,\u001b[0m \u001b[1;33m/\u001b[0m\u001b[1;33m)\u001b[0m\u001b[1;33m\u001b[0m\u001b[1;33m\u001b[0m\u001b[0m\n",
       "\u001b[1;31mDocstring:\u001b[0m Return the number of items in a container.\n",
       "\u001b[1;31mType:\u001b[0m      builtin_function_or_method\n"
      ]
     },
     "metadata": {},
     "output_type": "display_data"
    }
   ],
   "source": [
    "len?"
   ]
  },
  {
   "cell_type": "code",
   "execution_count": 14,
   "id": "254ae0c1-6045-4826-bad2-8afef658df3d",
   "metadata": {},
   "outputs": [
    {
     "data": {
      "text/plain": [
       "14"
      ]
     },
     "execution_count": 14,
     "metadata": {},
     "output_type": "execute_result"
    }
   ],
   "source": [
    "len(x)"
   ]
  },
  {
   "cell_type": "markdown",
   "id": "1b8f3628-c4ff-4b54-ae53-c8598b81c043",
   "metadata": {},
   "source": [
    "## **4. Objects and Types**"
   ]
  },
  {
   "cell_type": "markdown",
   "id": "13a13dba-eb24-47cd-87a5-d26e2efb8bc5",
   "metadata": {},
   "source": [
    "Everything in Python is an **object**.\n",
    "\n",
    "Objects are “things” that **contain 1) data and 2) functions that can operate on the data**.\n",
    "\n",
    "Sometimes we refer to the functions inside an object as *methods*.\n",
    "\n",
    "We can investigate what data is inside an object and which methods it supports by typing `.` after that particular variable, then hitting `TAB`.\n",
    "\n",
    "It should then list data and method names to the right of the variable name."
   ]
  },
  {
   "cell_type": "markdown",
   "id": "3361be0b-d7f2-423a-8156-fcbb8eb2dc71",
   "metadata": {},
   "source": [
    "### **4.1. Introspection**"
   ]
  },
  {
   "cell_type": "markdown",
   "id": "9d6306a8-aa77-4b98-bf4a-db7c14a61b6e",
   "metadata": {},
   "source": [
    "You can scroll through this list by using the up and down arrows.\n",
    "\n",
    "We often refer to this as **“tab completion”** or **“introspection”**.\n",
    "\n",
    "Let’s do this together below. \n",
    "\n",
    "Keep going down until you find the method `split`.\n",
    "\n",
    "Once you have found the method `split`, you can use the method by adding parenthesis after it.\n",
    "\n",
    "Let’s call the `split` method, which doesn’t have any other required parameters. (We can check that by using `?`.)"
   ]
  },
  {
   "cell_type": "code",
   "execution_count": 15,
   "id": "31704b03-7af9-45bf-a392-8ce5ecdb07f5",
   "metadata": {},
   "outputs": [
    {
     "data": {
      "text/plain": [
       "\u001b[1;31mSignature:\u001b[0m \u001b[0mx\u001b[0m\u001b[1;33m.\u001b[0m\u001b[0msplit\u001b[0m\u001b[1;33m(\u001b[0m\u001b[0msep\u001b[0m\u001b[1;33m=\u001b[0m\u001b[1;32mNone\u001b[0m\u001b[1;33m,\u001b[0m \u001b[0mmaxsplit\u001b[0m\u001b[1;33m=\u001b[0m\u001b[1;33m-\u001b[0m\u001b[1;36m1\u001b[0m\u001b[1;33m)\u001b[0m\u001b[1;33m\u001b[0m\u001b[1;33m\u001b[0m\u001b[0m\n",
       "\u001b[1;31mDocstring:\u001b[0m\n",
       "Return a list of the words in the string, using sep as the delimiter string.\n",
       "\n",
       "sep\n",
       "  The delimiter according which to split the string.\n",
       "  None (the default value) means split according to any whitespace,\n",
       "  and discard empty strings from the result.\n",
       "maxsplit\n",
       "  Maximum number of splits to do.\n",
       "  -1 (the default value) means no limit.\n",
       "\u001b[1;31mType:\u001b[0m      builtin_function_or_method\n"
      ]
     },
     "metadata": {},
     "output_type": "display_data"
    }
   ],
   "source": [
    "x.split?"
   ]
  },
  {
   "cell_type": "code",
   "execution_count": 16,
   "id": "169214c9-a935-4b6d-a311-fce14c9262af",
   "metadata": {},
   "outputs": [
    {
     "data": {
      "text/plain": [
       "['something', 'else']"
      ]
     },
     "execution_count": 16,
     "metadata": {},
     "output_type": "execute_result"
    }
   ],
   "source": [
    "x.split()"
   ]
  },
  {
   "cell_type": "markdown",
   "id": "88a33e2b-7c08-498e-9b7f-8076cb65c288",
   "metadata": {},
   "source": [
    "### **4.2. Types**"
   ]
  },
  {
   "cell_type": "markdown",
   "id": "58d1f53f-867a-4dbb-ae5e-948b4eb667b1",
   "metadata": {},
   "source": [
    "We often want to identify what kind of object some value is – called its **“type”**.\n",
    "\n",
    "A “type” is an abstraction which defines a set of behavior for any “instance” of that type i.e. `2.0` and `3.0` are instances of `float`, where `float` has a set of particular common behaviors.\n",
    "\n",
    "In particular, the type determines:\n",
    "\n",
    "- the available data for any “instance” of the type (where each instance may have different values of the data).\n",
    "- the methods that can be applied on the object and its data.\n",
    "\n",
    "We can figure this out by using the `type` function.\n",
    "\n",
    "The `type` function takes a single argument and outputs the type of that argument."
   ]
  },
  {
   "cell_type": "code",
   "execution_count": 17,
   "id": "0a077228-c085-4774-bc45-1cac2f36e836",
   "metadata": {},
   "outputs": [
    {
     "data": {
      "text/plain": [
       "int"
      ]
     },
     "execution_count": 17,
     "metadata": {},
     "output_type": "execute_result"
    }
   ],
   "source": [
    "type(3)"
   ]
  },
  {
   "cell_type": "code",
   "execution_count": 18,
   "id": "a20cef1c-e753-4410-ab1f-70b00729a08a",
   "metadata": {},
   "outputs": [
    {
     "data": {
      "text/plain": [
       "str"
      ]
     },
     "execution_count": 18,
     "metadata": {},
     "output_type": "execute_result"
    }
   ],
   "source": [
    "type(\"Hello World\")"
   ]
  },
  {
   "cell_type": "code",
   "execution_count": 19,
   "id": "77d9a09c-7acc-42b4-b208-c85e17f894a8",
   "metadata": {},
   "outputs": [
    {
     "data": {
      "text/plain": [
       "list"
      ]
     },
     "execution_count": 19,
     "metadata": {},
     "output_type": "execute_result"
    }
   ],
   "source": [
    "type([1, 2, 3])"
   ]
  },
  {
   "cell_type": "markdown",
   "id": "de39685b-932c-470e-9dcc-b0b4cf84039c",
   "metadata": {},
   "source": [
    "The basic data types that you will utilize throughout these notes are boolean, int, float, string, list, tuple, dictionary, set.\n",
    "\n",
    "We will learn more about each of these types (and others!) and how to use them soon, so stay tuned!"
   ]
  },
  {
   "cell_type": "markdown",
   "id": "b7b3952b-932b-4f65-b1c4-06b33e099755",
   "metadata": {},
   "source": [
    "## **5. Modules**"
   ]
  },
  {
   "cell_type": "markdown",
   "id": "b87b4ca7-7fae-4d93-90be-174109defb3b",
   "metadata": {},
   "source": [
    "Python takes a *modular approach* to tools.\n",
    "\n",
    "By this we mean that sets of related tools are bundled together into packages. (You may also hear the term modules to describe the same thing.)\n",
    "\n",
    "For example:\n",
    "\n",
    "- `pandas` is a package that implements the tools necessary to do scalable data analysis.\n",
    "- `matplotlib` is a package that implements visualization tools.\n",
    "- `requests` and `urllib` are packages that allow Python to interface with the internet.\n",
    "\n",
    "As we move further into solving numerical problems, being able to access these packages will become very important.\n",
    "\n",
    "We can bring a package’s functionality into our current Python session by writing\n",
    "\n",
    "```python\n",
    "import package\n",
    "```\n",
    "\n",
    "Once we have done this, any function or object from that package can be accessed by using `package.name`.\n",
    "\n",
    "Here’s an example."
   ]
  },
  {
   "cell_type": "code",
   "execution_count": 6,
   "id": "fb060746-f616-4177-bff0-5a452f907047",
   "metadata": {},
   "outputs": [
    {
     "data": {
      "text/plain": [
       "'3.8.12 (default, Oct 12 2021, 03:01:40) [MSC v.1916 64 bit (AMD64)]'"
      ]
     },
     "execution_count": 6,
     "metadata": {},
     "output_type": "execute_result"
    }
   ],
   "source": [
    "import sys   # for dealing with your computer's system\n",
    "\n",
    "sys.version  # information about the Python version in use"
   ]
  },
  {
   "cell_type": "markdown",
   "id": "cd9f075d-92bd-46c5-8aef-5fe9419d8980",
   "metadata": {},
   "source": [
    "**`[Exercise 3]`** \n",
    "\n",
    "We can use our introspection skills to investigate a package’s contents.\n",
    "\n",
    "In the cell below, use tab completion to find a function from the `time` module that will display the local time.\n",
    "\n",
    "Use `time.FUNC_NAME?` (where `FUNC_NAME` is replaced with the function you found) to see information about that function and then call the function.\n",
    "\n",
    "(Hint : Look for something to do with the word `local`.)"
   ]
  },
  {
   "cell_type": "code",
   "execution_count": 9,
   "id": "50205672-5ee4-497c-8a7c-e3000399def6",
   "metadata": {},
   "outputs": [
    {
     "data": {
      "text/plain": [
       "\u001b[1;31mDocstring:\u001b[0m\n",
       "localtime([seconds]) -> (tm_year,tm_mon,tm_mday,tm_hour,tm_min,\n",
       "                          tm_sec,tm_wday,tm_yday,tm_isdst)\n",
       "\n",
       "Convert seconds since the Epoch to a time tuple expressing local time.\n",
       "When 'seconds' is not passed in, convert the current time instead.\n",
       "\u001b[1;31mType:\u001b[0m      builtin_function_or_method\n"
      ]
     },
     "metadata": {},
     "output_type": "display_data"
    }
   ],
   "source": [
    "import time\n",
    "\n",
    "time.localtime?"
   ]
  },
  {
   "cell_type": "markdown",
   "id": "f67348ec-ea02-42aa-bd19-9752636de3a0",
   "metadata": {},
   "source": [
    "### **5.1. Module Aliases**"
   ]
  },
  {
   "cell_type": "markdown",
   "id": "3808b3a9-2d73-4277-8151-ec84b75045b5",
   "metadata": {},
   "source": [
    "Some packages have long names (see `matplotlib`, for example) which makes accessing the package functionality somewhat inconvenient.\n",
    "\n",
    "To ease this burden, **Python allows us to give aliases or “nicknames” to packages**.\n",
    "\n",
    "For example we can write:\n",
    "\n",
    "```python\n",
    "import package as p\n",
    "```\n",
    "\n",
    "This statement allows us to access the packages functionality as `p.function_name` rather than `package.function_name`.\n",
    "\n",
    "Some common aliases for packages are\n",
    "\n",
    "- `import pandas as pd`\n",
    "- `import numpy as np`\n",
    "- `import matplotlib as mpl`\n",
    "- `import datetime as dt`\n",
    "\n",
    "While you can choose any name for an alias, **it is suggested that you stick to the common ones**."
   ]
  },
  {
   "cell_type": "markdown",
   "id": "71ded6ac-f70c-40e4-ada0-4f8177e8776a",
   "metadata": {
    "tags": []
   },
   "source": [
    "**`[Exercise 4]`** \n",
    "\n",
    "Try running `import time as t` in the cell below, then see if you can call the function you identified above.\n",
    "\n",
    "Does it work?"
   ]
  },
  {
   "cell_type": "code",
   "execution_count": null,
   "id": "55d83f81-1bf3-4c4e-8a2e-3064c39ac66b",
   "metadata": {},
   "outputs": [],
   "source": [
    "import time as t"
   ]
  },
  {
   "cell_type": "markdown",
   "id": "50c9c006-58aa-4eae-8e59-c468ce02e4db",
   "metadata": {},
   "source": [
    "## **6. Good Code Habits**"
   ]
  },
  {
   "cell_type": "markdown",
   "id": "34e7d952-928e-41da-b050-a63a34962a9b",
   "metadata": {},
   "source": [
    "A common saying in the software engineering world is :\n",
    "\n",
    "> Always code as if the guy who ends up maintaining your code will be a violent psychopath who knows where you live. <br>\n",
    "> **Code for readability**.\n",
    "\n",
    "This might be a dramatic take, but the most important feature of your code after **correctness** is **readability**.\n",
    "\n",
    "We encourage you to **do everything in your power to make your code as readable as possible**.\n",
    "\n",
    "Here are some suggestions for how to do so:\n",
    "\n",
    "- Comment frequently. Leaving short notes not only will help others who use your code, but will also help you interpret your code after some time has passed.\n",
    "- Anytime you use a comma, place a space immediately afterwards.\n",
    "- Whitespace is your friend. Don’t write line after line of code – use blank lines to break it up.\n",
    "- Don’t let your lines run too long. Some people reading your code will be on a laptop, so you want to ensure that they don’t need to scroll horizontally and right to read your code. No more than 80 characters per line is recommended."
   ]
  }
 ],
 "metadata": {
  "kernelspec": {
   "display_name": "Python 3 (ipykernel)",
   "language": "python",
   "name": "python3"
  },
  "language_info": {
   "codemirror_mode": {
    "name": "ipython",
    "version": 3
   },
   "file_extension": ".py",
   "mimetype": "text/x-python",
   "name": "python",
   "nbconvert_exporter": "python",
   "pygments_lexer": "ipython3",
   "version": "3.8.12"
  }
 },
 "nbformat": 4,
 "nbformat_minor": 5
}
